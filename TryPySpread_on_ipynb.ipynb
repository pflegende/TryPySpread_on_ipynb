{
 "cells": [
  {
   "cell_type": "markdown",
   "metadata": {},
   "source": [
    "# TryPySpread_on_ipynb"
   ]
  },
  {
   "cell_type": "markdown",
   "metadata": {},
   "source": [
    "we used\n",
    "the\n",
    "HOW TO\n",
    "on\n",
    "https://pyspread.gitlab.io/install.html"
   ]
  },
  {
   "cell_type": "code",
   "execution_count": 1,
   "metadata": {},
   "outputs": [
    {
     "data": {
      "application/javascript": [
       "IPython.notebook.set_autosave_interval(30000)"
      ]
     },
     "metadata": {},
     "output_type": "display_data"
    },
    {
     "name": "stdout",
     "output_type": "stream",
     "text": [
      "Autosaving every 30 seconds\n"
     ]
    }
   ],
   "source": [
    "%autosave 30"
   ]
  },
  {
   "cell_type": "code",
   "execution_count": 2,
   "metadata": {
    "scrolled": false
   },
   "outputs": [
    {
     "name": "stdout",
     "output_type": "stream",
     "text": [
      "debug-echo: **************************\n",
      "debug-echo: Start for install sequence\n",
      "debug-echo: **************************\n",
      "Wed Aug  5 16:13:20 UTC 2020\n",
      "debug-echo: **************************\n",
      "howTo from https://pyspread.gitlab.io/install.html\n",
      "Cloning into 'pyspread'...\n",
      "remote: Enumerating objects: 1313, done.\u001b[K\n",
      "remote: Counting objects: 100% (1313/1313), done.\u001b[K\n",
      "remote: Compressing objects: 100% (495/495), done.\u001b[K\n",
      "remote: Total 2964 (delta 887), reused 1214 (delta 805), pack-reused 1651\u001b[K\n",
      "Receiving objects: 100% (2964/2964), 2.87 MiB | 7.49 MiB/s, done.\n",
      "Resolving deltas: 100% (2002/2002), done.\n",
      "logTryPySpread\n",
      "pyspread\n",
      "README.md\n",
      "TryPySpread_on_ipynb.ipynb\n",
      "debug-echo: **************************\n",
      "debug-echo: cd pyspread is here before\n",
      "debug-echo: **************************\n",
      "Wed Aug  5 16:13:28 UTC 2020\n",
      "debug-echo: **************************\n",
      "/home/jovyan\n",
      "Requirement already satisfied: PyQt5>=5.10 in /srv/conda/envs/notebook/lib/python3.7/site-packages (from -r pyspread/requirements.txt (line 2)) (5.15.0)\n",
      "Requirement already satisfied: numpy>=1.1 in /srv/conda/envs/notebook/lib/python3.7/site-packages (from -r pyspread/requirements.txt (line 3)) (1.19.1)\n",
      "Requirement already satisfied: matplotlib>=1.1.1 in /srv/conda/envs/notebook/lib/python3.7/site-packages (from -r pyspread/requirements.txt (line 6)) (3.3.0)\n",
      "Requirement already satisfied: pyenchant>=1.1 in /srv/conda/envs/notebook/lib/python3.7/site-packages (from -r pyspread/requirements.txt (line 7)) (3.1.1)\n",
      "Requirement already satisfied: pip>=18 in /srv/conda/envs/notebook/lib/python3.7/site-packages (from -r pyspread/requirements.txt (line 8)) (20.1.1)\n",
      "Requirement already satisfied: PyQt5-sip<13,>=12.8 in /srv/conda/envs/notebook/lib/python3.7/site-packages (from PyQt5>=5.10->-r pyspread/requirements.txt (line 2)) (12.8.0)\n",
      "Requirement already satisfied: kiwisolver>=1.0.1 in /srv/conda/envs/notebook/lib/python3.7/site-packages (from matplotlib>=1.1.1->-r pyspread/requirements.txt (line 6)) (1.2.0)\n",
      "Requirement already satisfied: pyparsing!=2.0.4,!=2.1.2,!=2.1.6,>=2.0.3 in /srv/conda/envs/notebook/lib/python3.7/site-packages (from matplotlib>=1.1.1->-r pyspread/requirements.txt (line 6)) (2.4.7)\n",
      "Requirement already satisfied: python-dateutil>=2.1 in /srv/conda/envs/notebook/lib/python3.7/site-packages (from matplotlib>=1.1.1->-r pyspread/requirements.txt (line 6)) (2.8.1)\n",
      "Requirement already satisfied: pillow>=6.2.0 in /srv/conda/envs/notebook/lib/python3.7/site-packages (from matplotlib>=1.1.1->-r pyspread/requirements.txt (line 6)) (7.2.0)\n",
      "Requirement already satisfied: cycler>=0.10 in /srv/conda/envs/notebook/lib/python3.7/site-packages (from matplotlib>=1.1.1->-r pyspread/requirements.txt (line 6)) (0.10.0)\n",
      "Requirement already satisfied: six>=1.5 in /srv/conda/envs/notebook/lib/python3.7/site-packages (from python-dateutil>=2.1->matplotlib>=1.1.1->-r pyspread/requirements.txt (line 6)) (1.15.0)\n",
      "debug-echo: **************************\n",
      "debug-echo: End for install sequence\n",
      "debug-echo: **************************\n",
      "Wed Aug  5 16:13:34 UTC 2020\n",
      "debug-echo: ****************************\n",
      "debug-echo: Start for launching pyspread\n",
      "debug-echo: ****************************\n",
      "/srv/conda/envs/notebook/bin/python3: No module named pyspread.__main__; 'pyspread' is a package and cannot be directly executed\n",
      "debug-echo: **************************\n"
     ]
    }
   ],
   "source": [
    "! echo \"debug-echo: **************************\" | tee -a logTryPySpread\n",
    "! echo \"debug-echo: Start for install sequence\" | tee -a logTryPySpread\n",
    "! echo \"debug-echo: **************************\" | tee -a logTryPySpread\n",
    "! date | tee -a logTryPySpread\n",
    "! echo \"debug-echo: **************************\" | tee -a logTryPySpread\n",
    "! echo \"howTo from https://pyspread.gitlab.io/install.html\" | tee -a logTryPySpread\n",
    "! git clone https://gitlab.com/pyspread/pyspread.git | tee -a logTryPySpread\n",
    "! ls | tee -a logTryPySpread\n",
    "! cd pyspread\n",
    "! echo \"debug-echo: **************************\" | tee -a logTryPySpread\n",
    "! echo \"debug-echo: cd pyspread is here before\" | tee -a logTryPySpread\n",
    "! echo \"debug-echo: **************************\" | tee -a logTryPySpread\n",
    "! date | tee -a logTryPySpread\n",
    "! echo \"debug-echo: **************************\" | tee -a logTryPySpread\n",
    "! pwd | tee -a logTryPySpread\n",
    "! pip3 install -r pyspread/requirements.txt | tee -a logTryPySpread\n",
    "! echo \"debug-echo: **************************\" | tee -a logTryPySpread\n",
    "! echo \"debug-echo: End for install sequence\" | tee -a logTryPySpread\n",
    "! echo \"debug-echo: **************************\" | tee -a logTryPySpread\n",
    "! date | tee -a logTryPySpread\n",
    "! echo \"debug-echo: ****************************\" | tee -a logTryPySpread\n",
    "! echo \"debug-echo: Start for launching pyspread\" | tee -a logTryPySpread\n",
    "! echo \"debug-echo: ****************************\" | tee -a logTryPySpread\n",
    "! pyspread\n",
    "! echo \"debug-echo: **************************\" | tee -a logTryPySpread\n"
   ]
  },
  {
   "cell_type": "markdown",
   "metadata": {},
   "source": [
    "Every suggestion, mostly for code, are very welcome. \n",
    "\n",
    "## Keep healthy!"
   ]
  },
  {
   "cell_type": "code",
   "execution_count": 3,
   "metadata": {},
   "outputs": [
    {
     "name": "stdout",
     "output_type": "stream",
     "text": [
      "Wed Aug  5 16:13:39 UTC 2020\n",
      "this was all for the 1st try on PySpread ...\n",
      " CU! \n",
      ":)  \n"
     ]
    }
   ],
   "source": [
    "! date ; echo \"this was all for the 1st try on PySpread ...\"\n",
    "! echo \" CU! \"\n",
    "! echo \":)  \""
   ]
  },
  {
   "cell_type": "code",
   "execution_count": null,
   "metadata": {},
   "outputs": [],
   "source": []
  }
 ],
 "metadata": {
  "kernelspec": {
   "display_name": "Python 3",
   "language": "python",
   "name": "python3"
  },
  "language_info": {
   "codemirror_mode": {
    "name": "ipython",
    "version": 3
   },
   "file_extension": ".py",
   "mimetype": "text/x-python",
   "name": "python",
   "nbconvert_exporter": "python",
   "pygments_lexer": "ipython3",
   "version": "3.7.6"
  }
 },
 "nbformat": 4,
 "nbformat_minor": 4
}
